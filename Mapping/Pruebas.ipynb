{
 "cells": [
  {
   "cell_type": "code",
   "execution_count": null,
   "metadata": {},
   "outputs": [],
   "source": [
    "import schedule\n",
    "import time\n",
    "from plyer import notification\n",
    "\n",
    "def job(t):\n",
    "    if __name__ == '__main__':\n",
    "        notification.notify(\n",
    "        title='Hello World',\n",
    "        message='This is a test',\n",
    "        timeout=10\n",
    "        )\n",
    "    time.sleep(3)\n",
    "    return\n",
    "\n",
    "schedule.every().day.at(\"12:40\").do(job, 'It is 12:39')\n",
    "\n",
    "while True:\n",
    "    schedule.run_pending()\n",
    "    time.sleep(1) # wait one minute"
   ]
  },
  {
   "cell_type": "code",
   "execution_count": 1,
   "metadata": {},
   "outputs": [],
   "source": [
    "import time \n",
    "from plyer import notification \n",
    "\n",
    "if __name__ == '__main__':\n",
    "    notification.notify(\n",
    "        title='Hello World',\n",
    "        message='This is a test',\n",
    "        timeout=10\n",
    "        )\n",
    "    time.sleep(3)\n",
    "    "
   ]
  }
 ],
 "metadata": {
  "kernelspec": {
   "display_name": "Python 3.9.12 ('base')",
   "language": "python",
   "name": "python3"
  },
  "language_info": {
   "codemirror_mode": {
    "name": "ipython",
    "version": 3
   },
   "file_extension": ".py",
   "mimetype": "text/x-python",
   "name": "python",
   "nbconvert_exporter": "python",
   "pygments_lexer": "ipython3",
   "version": "3.9.12"
  },
  "orig_nbformat": 4,
  "vscode": {
   "interpreter": {
    "hash": "54d8efc0accedf8a71318180958b2a2c3ace073b5a0267b0b56f49dfe74d51c0"
   }
  }
 },
 "nbformat": 4,
 "nbformat_minor": 2
}
